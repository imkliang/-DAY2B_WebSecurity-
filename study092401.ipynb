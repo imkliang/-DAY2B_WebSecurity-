{
  "nbformat": 4,
  "nbformat_minor": 0,
  "metadata": {
    "colab": {
      "provenance": [],
      "toc_visible": true,
      "authorship_tag": "ABX9TyOmpG55QhbuQLWLsJBTpgBk",
      "include_colab_link": true
    },
    "kernelspec": {
      "name": "python3",
      "display_name": "Python 3"
    },
    "language_info": {
      "name": "python"
    }
  },
  "cells": [
    {
      "cell_type": "markdown",
      "metadata": {
        "id": "view-in-github",
        "colab_type": "text"
      },
      "source": [
        "<a href=\"https://colab.research.google.com/github/imkliang/-DAY2B_WebSecurity-/blob/master/study092401.ipynb\" target=\"_parent\"><img src=\"https://colab.research.google.com/assets/colab-badge.svg\" alt=\"Open In Colab\"/></a>"
      ]
    },
    {
      "cell_type": "code",
      "execution_count": null,
      "metadata": {
        "colab": {
          "base_uri": "https://localhost:8080/"
        },
        "id": "kh2ueBg3yV_N",
        "outputId": "caa80b89-617f-4e6e-b955-936f6a2f03fd"
      },
      "outputs": [
        {
          "output_type": "stream",
          "name": "stdout",
          "text": [
            "CSV 檔案已成功生成。\n"
          ]
        }
      ],
      "source": [
        "import csv\n",
        "\n",
        "# 定義資料\n",
        "students = [\n",
        "    [\"學號\", \"姓名\", \"電話\"],\n",
        "    [\"001\", \"王小明\", \"0912345678\"],\n",
        "    [\"002\", \"李大強\", \"0987654321\"]\n",
        "]\n",
        "\n",
        "courses = [\n",
        "    [\"課程編號\", \"課程名稱\", \"學分\"],\n",
        "    [\"C001\", \"資料庫概論\", \"3\"],\n",
        "    [\"C002\", \"程式設計\", \"3\"]\n",
        "]\n",
        "\n",
        "enrollments = [\n",
        "    [\"學號\", \"課程編號\"],\n",
        "    [\"001\", \"C001\"],\n",
        "    [\"001\", \"C002\"],\n",
        "    [\"002\", \"C001\"]\n",
        "]\n",
        "\n",
        "teachers = [\n",
        "    [\"老師編號\", \"老師姓名\"],\n",
        "    [\"T001\", \"陳老師\"],\n",
        "    [\"T002\", \"李老師\"]\n",
        "]\n",
        "\n",
        "# 將資料寫入 CSV 檔案\n",
        "with open('students.csv', 'w', newline='', encoding='utf-8') as file:\n",
        "    writer = csv.writer(file)\n",
        "    writer.writerows(students)\n",
        "\n",
        "with open('courses.csv', 'w', newline='', encoding='utf-8') as file:\n",
        "    writer = csv.writer(file)\n",
        "    writer.writerows(courses)\n",
        "\n",
        "with open('enrollments.csv', 'w', newline='', encoding='utf-8') as file:\n",
        "    writer = csv.writer(file)\n",
        "    writer.writerows(enrollments)\n",
        "\n",
        "with open('teachers.csv', 'w', newline='', encoding='utf-8') as file:\n",
        "    writer = csv.writer(file)\n",
        "    writer.writerows(teachers)\n",
        "\n",
        "print(\"CSV 檔案已成功生成。\")"
      ]
    }
  ]
}