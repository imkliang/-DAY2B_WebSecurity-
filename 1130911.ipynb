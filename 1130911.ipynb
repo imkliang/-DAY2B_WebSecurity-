{
  "nbformat": 4,
  "nbformat_minor": 0,
  "metadata": {
    "colab": {
      "provenance": [],
      "authorship_tag": "ABX9TyP60xFQMh0draW0Vv0OMsGf",
      "include_colab_link": true
    },
    "kernelspec": {
      "name": "python3",
      "display_name": "Python 3"
    },
    "language_info": {
      "name": "python"
    }
  },
  "cells": [
    {
      "cell_type": "markdown",
      "metadata": {
        "id": "view-in-github",
        "colab_type": "text"
      },
      "source": [
        "<a href=\"https://colab.research.google.com/github/imkliang/-DAY2B_WebSecurity-/blob/master/1130911.ipynb\" target=\"_parent\"><img src=\"https://colab.research.google.com/assets/colab-badge.svg\" alt=\"Open In Colab\"/></a>"
      ]
    },
    {
      "cell_type": "code",
      "execution_count": 2,
      "metadata": {
        "colab": {
          "base_uri": "https://localhost:8080/"
        },
        "id": "RyM5ZSMKRrMx",
        "outputId": "0c52ccfe-2eb0-4bd5-ce52-124b6785564f"
      },
      "outputs": [
        {
          "output_type": "stream",
          "name": "stdout",
          "text": [
            "請輸入薪資:56000\n",
            "薪資:    56000\n",
            "56000\n",
            "扣除額= 3360.00\n",
            "3360.0\n",
            "實領薪資= 52640.00\n",
            "52640.0\n"
          ]
        }
      ],
      "source": [
        "salary = int(input(\"請輸入薪資:\"))\n",
        "#依薪資扣除額\n",
        "if salary >= 28000:\n",
        "  tax =salary * 0.06\n",
        "elif salary >=32000:\n",
        "  tax =salary * 0.08\n",
        "else:\n",
        "  tax=0\n",
        "income =salary -tax\n",
        "print(\"薪資:\",format(salary,'>8d'))\n",
        "print(salary)\n",
        "print(\"扣除額=\",format(tax,'>4.2f'))\n",
        "print(tax)\n",
        "print(\"實領薪資=\",format(income,'>6.2f'))\n",
        "print(income)"
      ]
    },
    {
      "cell_type": "code",
      "source": [],
      "metadata": {
        "id": "OsfohfXuSBkM"
      },
      "execution_count": null,
      "outputs": []
    }
  ]
}