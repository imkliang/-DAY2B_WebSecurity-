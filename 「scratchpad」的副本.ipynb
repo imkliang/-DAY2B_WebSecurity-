{
  "cells": [
    {
      "cell_type": "markdown",
      "metadata": {
        "id": "view-in-github",
        "colab_type": "text"
      },
      "source": [
        "<a href=\"https://colab.research.google.com/github/imkliang/-DAY2B_WebSecurity-/blob/master/%E3%80%8Cscratchpad%E3%80%8D%E7%9A%84%E5%89%AF%E6%9C%AC.ipynb\" target=\"_parent\"><img src=\"https://colab.research.google.com/assets/colab-badge.svg\" alt=\"Open In Colab\"/></a>"
      ]
    },
    {
      "cell_type": "code",
      "execution_count": 10,
      "metadata": {
        "colab": {
          "base_uri": "https://localhost:8080/"
        },
        "id": "lIYdn1woOS1n",
        "outputId": "8c59e5eb-fdcc-444d-d3cc-49844bac5a34"
      },
      "outputs": [
        {
          "output_type": "stream",
          "name": "stdout",
          "text": [
            "Please enter 10 number from 0~100:\n",
            "\n",
            "enter a number from 0~100:98\n",
            "\n",
            "enter a number from 0~100:56\n",
            "\n",
            "enter a number from 0~100:89\n",
            "\n",
            "enter a number from 0~100:76\n",
            "\n",
            "enter a number from 0~100:66\n",
            "\n",
            "enter a number from 0~100:38\n",
            "\n",
            "enter a number from 0~100:19\n",
            "\n",
            "enter a number from 0~100:93\n",
            "\n",
            "enter a number from 0~100:44\n",
            "\n",
            "enter a number from 0~100:58\n",
            "[98, 56, 89, 76, 66, 38, 19, 93, 44, 58]\n",
            "[58, 44, 93, 19, 38, 66, 76, 89, 56, 98]\n",
            "[98, 56, 89, 76, 66, 38, 19, 93, 44, 58]\n",
            "[19, 38, 44, 56, 58, 66, 76, 89, 93, 98]\n"
          ]
        }
      ],
      "source": [
        "\n",
        "\n",
        "list_ary= list()\n",
        "print('Please enter 10 number from 0~100:')\n",
        "for i in range(1,11):\n",
        "  list_ary.append(int(input('\\nenter a number from 0~100:')))\n",
        "\n",
        "\n",
        "print(list_ary)\n",
        "idx =len(list_ary)-1\n",
        "newlist=[]\n",
        "while idx>=0:\n",
        "  newlist.append (list_ary[idx])\n",
        "  idx=idx-1\n",
        "\n",
        "print(newlist)\n",
        "def bubble_sore(list_ary):\n",
        "  for i in range(0,9):\n",
        "    for j in range(0,9-i):\n",
        "      print('j=',j,'list_ary=',list_ary[j])\n",
        "      if list_ary[j]>list_ary[j+1]:\n",
        "        print('j=',j,'\\n')\n",
        "        print('swap',list_ary[j],' &',list_ary[j+1])\n",
        "        temp=list_ary[j]\n",
        "        list_ary[j]=list_ary[j+1]\n",
        "        list_ary[j+1]=temp\n",
        "\n",
        "\n",
        "  #bubble_sore(list_ary)\n",
        "\n",
        "print(list_ary)\n",
        "def swap(list_ary,button,top):\n",
        "    temp=list_ary[button]\n",
        "    list_ary[button]=list_ary[top]\n",
        "    list_ary[top]=temp\n",
        "\n",
        "def partitation(list_ary,front,rear):\n",
        "  j=i=front\n",
        "  for i in range(front,rear):\n",
        "      if list_ary[i]<list_ary[rear]:\n",
        "          swap(list_ary,i,j)\n",
        "          j=j+1\n",
        "  swap(list_ary,j,rear)\n",
        "  return j\n",
        "\n",
        "\n",
        "def quick_sort(list_ary,left,right):\n",
        "\n",
        "     if  right>left :\n",
        "\n",
        "       n=partitation(list_ary,left,right)\n",
        "       quick_sort(list_ary,left,n-1)\n",
        "       quick_sort(list_ary,n+1,right)\n",
        "\n",
        "quick_sort(list_ary,0,len(list_ary)-1)\n",
        "print(list_ary)"
      ]
    }
  ],
  "metadata": {
    "colab": {
      "provenance": [],
      "include_colab_link": true
    },
    "kernelspec": {
      "display_name": "Python 3",
      "name": "python3"
    }
  },
  "nbformat": 4,
  "nbformat_minor": 0
}